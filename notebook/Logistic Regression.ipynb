{
 "cells": [
  {
   "cell_type": "markdown",
   "metadata": {},
   "source": [
    "# Logistic Regression"
   ]
  },
  {
   "cell_type": "markdown",
   "metadata": {},
   "source": [
    "### 推导过程\n",
    "考虑具有 $n$ 个独立变量的向量 $x=(x_1,x_2,...,x_n)$ ，设条件概率 $P(y=1|x)=p$ 为根据观测量相对于某事件 $x$ （即输入）发生的概率，则 Logistic 回归模型可以表示为：\n",
    "\n",
    "$$P(y=0|x)=1-P(y=1|x)=1-\\frac{1}{1+e^{-g(x)}}=\\frac{1}{1+e^{g(x)}}$$\n",
    "\n",
    "这里 $f(x)=\\frac{1}{1+e^{-x}}$ 称为 Logistic 函数，其中 $g(x)=w_0+w_1x_1+...+w_nx_n$ 。\n",
    "\n",
    "注意：参数向量是要比输入向量多一个维度的，为了规范化。\n",
    "\n",
    "那么在 $x$ 条件下 $y$ 不发生的概率为：\n",
    "\n",
    "$$P(y=0|x)=1-P(y=1|x)=1-\\frac{1}{1+e^{-g(x)}}=\\frac{1}{1+e^{g(x)}}$$\n",
    "\n",
    "所以在 $x$ 条件下事件发生与不发生的概率之比为：\n",
    "\n",
    "$$\\frac{P(y=1|x)}{P(y=0|x)}=\\frac{p}{1-p}=e^{g(x)}$$\n",
    "\n",
    "这个比值称为事件的发生比（ the odds of experiencing an event ），简记为 odds。\n",
    "\n",
    "对 odds 取对数得到：\n",
    "\n",
    "$$ln(\\frac{p}{1-p})=g(x)=w_0+w_1x_1+...+w_nx_n$$\n",
    "\n",
    "核心：使用最大似然估计求参数。\n",
    "\n",
    "假设有 $m$ 个观测样本，观测值分别为 $y_1,y_2,...,y_m$ ，设 $p_i=P(y_i=1|x_i)$ 为给定条件下得到 $y_i=1$ 的概率，同样地， $y_i=0$ 的概率为 $P(y_i=0|x_i)=1-p_i$ ，所以得到一个观测值的概率为 $P(y_i)=p_i^{y_i}(1-p_i)^{1-y_i}$ 。\n",
    "\n",
    "因为各个观测样本之间互相独立，那么它们的联合分布为各边缘分布的乘积。得到似然函数为：\n",
    "\n",
    "$$L(w)=\\prod_{i=1}^{m}(\\pi(x_i)^{y_i})(1-\\pi(x_i))^{1-y_i}$$\n",
    "\t\t\t\t\n",
    "目标是求出使这一似然函数的值最大的参数估计，最大似然估计就是求出参数 $w_0,w_1,...,w_n$ ，使得 $L(w)$ 取得最大值，对函数 $L(w)$ 取对数得到：\n",
    "\n",
    "$$lnL(w)=\\sum_{i=1}^{m}(y_iln[\\pi(x_i)]+(1-y_i)ln[1-\\pi(x_i)])$$\n",
    "\n",
    "继续对这 $n+1$ 个 $w_i$ 分别求偏导，得到 $n+1$ 个方程，比如现在对参数 $w_k$ 求偏导，由于：\n",
    "\n",
    "$(y_iln[\\pi(x_i)]+(1-y_i)ln[1-\\pi(x_i)])^{'}$\n",
    "\n",
    "$=\\frac{y_i}{\\pi(x_i)}[\\pi(x_i)]^{'}+(1-y_i)\\frac{-[\\pi(x_i)]^{'}}{1-\\pi(x_i)}$\n",
    "\n",
    "$=[\\frac{y_i}{\\pi(x_i)}-\\frac{1-y_i}{1-\\pi(x_i)}][\\pi(x_i)]^{i}$\n",
    "\n",
    "$=(y_i-\\pi(x_i))g^{'}(x)$\n",
    "\n",
    "$=x_{ik}[y_i-\\pi(x_i)]$\n",
    "\n",
    "所以，\n",
    "\n",
    "$$\\frac{\\partial lnL(w_k)}{\\partial w_k}=\\sum_{i=1}^{m}x_{ik}[y_i-\\pi(x_i)]=0$$\n",
    "\t\t\t\t\n",
    "这样的方程一共有 $n+1$ 个，所以现在的问题转化为解这 $n+1$ 个方程形成的方程组。"
   ]
  },
  {
   "cell_type": "markdown",
   "metadata": {},
   "source": [
    "### 相关问题和概念\n",
    "\n",
    "#### 问题：什么是最大似然估计（极大似然估计）？\n",
    "首先理解似然：通过观测值反推概率，就是似然。\n",
    "\n",
    "举例：在理想情况下，抛硬币正反面的概率都分别为 0.5 ，但如果扔了 1000 次硬币，都出现了“花”，那么就会反推这个概率不是公平的。在这里，把硬币出现“花”出现的概率称为硬币的参数。\n",
    "\n",
    "上述问题的回答：得到最可能的参数，叫做最大似然估计。\n",
    "\n",
    "#### 概念：概率和似然\n",
    "概率：已知硬币的参数，就可以去推测抛硬币的各种情况的可能性。\n",
    "\n",
    "似然：不知道硬币的参数，通过抛硬币的结果去推测硬币的参数。\n",
    "\n",
    "#### 问题：如何进行最大似然估计？\n",
    "核心：求似然函数的问题，变成求似然函数的极值。\n",
    "\n",
    "举例：假设硬币的参数，然后计算实验结果的概率是多少，概率越大的，那么这个假设的参数就越可能是真的。\n",
    "\n",
    "#### 概念：牛顿迭代法、梯度下降法和最小二乘法\n",
    "\n",
    "#### 问题：什么是一阶收敛？什么是  阶收敛？\n",
    "核心：$n$ 阶收敛相当于以 $n$ 阶的速度逼近一个值 $x$ 。\n",
    "\n",
    "一阶收敛：以 $\\frac{1}{n}$ 的速度收敛；（梯度上升法）\n",
    "\n",
    "二阶收敛：以 $\\frac{1}{n^2}$ 的速度收敛。（牛顿迭代法）\n",
    "\n",
    "结论：二阶收敛比一阶收敛速度更快。"
   ]
  },
  {
   "cell_type": "markdown",
   "metadata": {},
   "source": [
    "### Python单机朴素实现"
   ]
  },
  {
   "cell_type": "code",
   "execution_count": 1,
   "metadata": {
    "collapsed": true
   },
   "outputs": [],
   "source": [
    "import numpy as np\n",
    "import math\n",
    "\n",
    "class Sigmoid():\n",
    "    def __call__(self, x):\n",
    "        return 1 / (1 + np.exp(-x))\n",
    "\n",
    "    def gradient(self, x):\n",
    "        return self.__call__(x) * (1 - self.__call__(x))\n",
    "\n",
    "class LogisticRegression():\n",
    "    \"\"\" Logistic Regression classifier.\n",
    "    Parameters:\n",
    "    -----------\n",
    "    learning_rate: float\n",
    "        The step length that will be taken when following the negative gradient during\n",
    "        training.\n",
    "    \"\"\"\n",
    "    def __init__(self, learning_rate=.1):\n",
    "        self.param = None\n",
    "        self.learning_rate = learning_rate\n",
    "        self.sigmoid = Sigmoid()\n",
    "\n",
    "    def _initialize_parameters(self, X):\n",
    "        n_features = np.shape(X)[1]\n",
    "        # Initialize parameters between [-1/sqrt(N), 1/sqrt(N)]\n",
    "        limit = 1 / math.sqrt(n_features)\n",
    "        self.param = np.random.uniform(-limit, limit, (n_features,))\n",
    "\n",
    "    def fit(self, X, y, n_iterations):\n",
    "        self._initialize_parameters(X)\n",
    "        # Tune parameters for n iterations\n",
    "        for i in range(n_iterations):\n",
    "            # Make a new prediction\n",
    "            y_pred = self.sigmoid(X.dot(self.param))\n",
    "            self.param -= self.learning_rate * -(y - y_pred).dot(X)\n",
    "\n",
    "    def predict(self, X):\n",
    "        y_pred = np.round(self.sigmoid(X.dot(self.param)))\n",
    "        return y_pred.astype(int)"
   ]
  },
  {
   "cell_type": "markdown",
   "metadata": {},
   "source": [
    "### TensorFlow 实现"
   ]
  },
  {
   "cell_type": "code",
   "execution_count": null,
   "metadata": {
    "collapsed": true
   },
   "outputs": [],
   "source": [
    "import tensorflow as tf\n",
    "\n",
    "# Import MINST data\n",
    "from tensorflow.examples.tutorials.mnist import input_data\n",
    "mnist = input_data.read_data_sets(\"/tmp/data/\", one_hot=True)\n",
    "\n",
    "# Parameters\n",
    "learning_rate = 0.01\n",
    "training_epochs = 25\n",
    "batch_size = 100\n",
    "display_step = 1\n",
    "\n",
    "# tf Graph Input\n",
    "x = tf.placeholder(tf.float32, [None, 784]) # mnist data image of shape 28*28=784\n",
    "y = tf.placeholder(tf.float32, [None, 10]) # 0-9 digits recognition => 10 classes\n",
    "\n",
    "# Set model weights\n",
    "W = tf.Variable(tf.zeros([784, 10]))\n",
    "b = tf.Variable(tf.zeros([10]))\n",
    "\n",
    "# Construct model\n",
    "pred = tf.nn.softmax(tf.matmul(x, W) + b) # Softmax\n",
    "\n",
    "# Minimize error using cross entropy\n",
    "cost = tf.reduce_mean(-tf.reduce_sum(y*tf.log(pred), reduction_indices=1))\n",
    "# Gradient Descent\n",
    "optimizer = tf.train.GradientDescentOptimizer(learning_rate).minimize(cost)\n",
    "\n",
    "# Initialize the variables (i.e. assign their default value)\n",
    "init = tf.global_variables_initializer()\n",
    "\n",
    "# Start training\n",
    "with tf.Session() as sess:\n",
    "    sess.run(init)\n",
    "\n",
    "    # Training cycle\n",
    "    for epoch in range(training_epochs):\n",
    "        avg_cost = 0.\n",
    "        total_batch = int(mnist.train.num_examples/batch_size)\n",
    "        # Loop over all batches\n",
    "        for i in range(total_batch):\n",
    "            batch_xs, batch_ys = mnist.train.next_batch(batch_size)\n",
    "            # Fit training using batch data\n",
    "            _, c = sess.run([optimizer, cost], feed_dict={x: batch_xs,\n",
    "                                                          y: batch_ys})\n",
    "            # Compute average loss\n",
    "            avg_cost += c / total_batch\n",
    "        # Display logs per epoch step\n",
    "        if (epoch+1) % display_step == 0:\n",
    "            print(\"Epoch:\", '%04d' % (epoch+1), \"cost=\", “{:.9f}\".format(avg_cost))\n",
    "\n",
    "    print(\"Optimization Finished!\")\n",
    "\n",
    "    # Test model\n",
    "    correct_prediction = tf.equal(tf.argmax(pred, 1), tf.argmax(y, 1))\n",
    "    # Calculate accuracy for 3000 examples\n",
    "    accuracy = tf.reduce_mean(tf.cast(correct_prediction, tf.float32))\n",
    "    print(\"Accuracy:\", accuracy.eval({x: mnist.test.images[:3000], y: mnist.test.labels[:3000]}))"
   ]
  },
  {
   "cell_type": "markdown",
   "metadata": {},
   "source": [
    "### CUDA 实现"
   ]
  },
  {
   "cell_type": "markdown",
   "metadata": {},
   "source": [
    "### Hadoop 实现"
   ]
  },
  {
   "cell_type": "markdown",
   "metadata": {},
   "source": [
    "### Spark 实现"
   ]
  },
  {
   "cell_type": "markdown",
   "metadata": {},
   "source": [
    "### Parameter Server 实现"
   ]
  },
  {
   "cell_type": "code",
   "execution_count": null,
   "metadata": {
    "collapsed": true
   },
   "outputs": [],
   "source": []
  }
 ],
 "metadata": {
  "kernelspec": {
   "display_name": "Python 3",
   "language": "python",
   "name": "python3"
  },
  "language_info": {
   "codemirror_mode": {
    "name": "ipython",
    "version": 3
   },
   "file_extension": ".py",
   "mimetype": "text/x-python",
   "name": "python",
   "nbconvert_exporter": "python",
   "pygments_lexer": "ipython3",
   "version": "3.6.3"
  }
 },
 "nbformat": 4,
 "nbformat_minor": 2
}

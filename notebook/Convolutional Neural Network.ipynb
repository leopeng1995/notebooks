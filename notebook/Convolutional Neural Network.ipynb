{
 "cells": [
  {
   "cell_type": "markdown",
   "metadata": {},
   "source": [
    "# Convolutional Neural Network (卷积神经网络)"
   ]
  },
  {
   "cell_type": "markdown",
   "metadata": {},
   "source": [
    "#### 问题：什么是池化层？池化层有什么作用？"
   ]
  },
  {
   "cell_type": "markdown",
   "metadata": {
    "collapsed": true
   },
   "source": [
    "![Pooling Problem](imgs/pooling_problem.png)"
   ]
  },
  {
   "cell_type": "markdown",
   "metadata": {},
   "source": [
    "为什么会发生这种和人的直觉不符的现象？这个锅还得MaxPooling来背，因为MaxPooling只对某个最强特征做出反应，至于这个特征出现在哪里以及特征之间应该维持什么样的合理组合关系它并不关心，总而言之，它给CNN的“位置不变性”太大自由度，所以造成了以上不符合人类认知的判断结果。\n",
    "\n",
    "在Capsule的方案中，CNN的卷积层保留，MaxPooling层被拿掉。这里需要强调的是，Capsule本身是一种技术框架，并不单单是具体的某项技术，Hinton论文给出的是最简单的一种实现方法，完全可以在遵循其技术思路情况下创造全新的具体实现方法。"
   ]
  },
  {
   "cell_type": "code",
   "execution_count": null,
   "metadata": {
    "collapsed": true
   },
   "outputs": [],
   "source": []
  }
 ],
 "metadata": {
  "kernelspec": {
   "display_name": "Python 3",
   "language": "python",
   "name": "python3"
  },
  "language_info": {
   "codemirror_mode": {
    "name": "ipython",
    "version": 3
   },
   "file_extension": ".py",
   "mimetype": "text/x-python",
   "name": "python",
   "nbconvert_exporter": "python",
   "pygments_lexer": "ipython3",
   "version": "3.6.3"
  }
 },
 "nbformat": 4,
 "nbformat_minor": 2
}

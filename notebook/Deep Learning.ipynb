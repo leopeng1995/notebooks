{
 "cells": [
  {
   "cell_type": "markdown",
   "metadata": {},
   "source": [
    "# Deep Learning"
   ]
  },
  {
   "cell_type": "markdown",
   "metadata": {},
   "source": [
    "#### 深度学习的优化方法有哪些？\n",
    "\n",
    "#### SGD、Adam、Adagrad 有什么区别？\n",
    "\n",
    "#### 为什么 Adagrad 适合处理稀疏梯度？\n",
    "\n",
    "#### 什么是梯度消失？什么是梯度爆炸？\n",
    "\n",
    "#### 神经网络有哪些初始化方法？为什么要做初始化？Kaiming He 初始化方法的过程是怎样的？"
   ]
  },
  {
   "cell_type": "code",
   "execution_count": null,
   "metadata": {
    "collapsed": true
   },
   "outputs": [],
   "source": []
  }
 ],
 "metadata": {
  "kernelspec": {
   "display_name": "Python 3",
   "language": "python",
   "name": "python3"
  },
  "language_info": {
   "codemirror_mode": {
    "name": "ipython",
    "version": 3
   },
   "file_extension": ".py",
   "mimetype": "text/x-python",
   "name": "python",
   "nbconvert_exporter": "python",
   "pygments_lexer": "ipython3",
   "version": "3.6.3"
  }
 },
 "nbformat": 4,
 "nbformat_minor": 2
}
